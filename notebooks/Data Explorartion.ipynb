{
 "cells": [
  {
   "cell_type": "markdown",
   "id": "bed4ddc5",
   "metadata": {},
   "source": [
    "# Dataset/ Topic Name --- \"Traffic Violations in USA\"\n"
   ]
  },
  {
   "cell_type": "markdown",
   "id": "4c00b143",
   "metadata": {},
   "source": [
    "## Title and Author\n",
    "\n",
    "**Author: Aryasri Meghna Vaishnavi**\n",
    "\n",
    "**Link to the author's GitHub profile: https://github.com/Meghnaaryasri/UMBC-DATA606-Capstone**\n",
    "\n",
    "**Link to the author's LinkedIn profile: https://www.linkedin.com/in/meghna-aryasri/**\n",
    "\n",
    "**Link to your PowerPoint presentation file: https://umbc-my.sharepoint.com/:p:/g/personal/meghnaa1_umbc_edu/EeDqhAiATlpIgmAWf0OJi4UBp_VpSSM3h9FjRR13bp38eg?e=eogbe5**\n",
    "\n",
    "**Link to the Youtube channel: https://youtu.be/DKaPGXUmXtw**"
   ]
  },
  {
   "cell_type": "markdown",
   "id": "b46aa949",
   "metadata": {},
   "source": [
    "## Background\n"
   ]
  },
  {
   "cell_type": "markdown",
   "id": "f30f8783",
   "metadata": {},
   "source": [
    "### What is it about?\n",
    "\n",
    "**This project focuses on analyzing traffic violations in the United States, tracing back to the first recorded traffic ticket in 1899. It aims to explore the evolution, types, and impact of traffic violations on society and state revenue.**\n",
    "\n"
   ]
  },
  {
   "cell_type": "markdown",
   "id": "045d14bd",
   "metadata": {},
   "source": [
    "### Why does it matter?\n",
    "\n",
    "**Understanding traffic violations is crucial for enhancing road safety, shaping public policy, and assessing the financial implications for drivers and state budgets. Analyzing these data can reveal patterns and trends that may inform more effective traffic laws and enforcement strategies.**"
   ]
  },
  {
   "cell_type": "markdown",
   "id": "15b11c75",
   "metadata": {},
   "source": [
    "## Research Questions\n",
    "\n",
    "**Trends Analysis: What are the most common times of day or periods of the year when traffic violations peak, and how can this information be utilized to enhance predictive accuracy?**\n",
    "\n",
    "**Influential Factors: Which factors most significantly influence the outcomes of traffic violations, such as the likelihood of accidents or repeat offenses, and how can these insights improve the predictive modeling process?**\n",
    "\n",
    "**Intervention Strategies: What specific, data-driven interventions can be recommended to prevent severe outcomes from traffic violations, and how can these strategies be effectively implemented within the target region?**"
   ]
  },
  {
   "cell_type": "markdown",
   "id": "3c1be3ce",
   "metadata": {},
   "source": [
    "### Columns\n",
    "\n",
    "**Column Name      Description**                               \n",
    "\n",
    "**Description**      Specifies the traffic violation type   \n",
    "\n",
    "**Location**         Location of the incident\n",
    "\n",
    "**Make**             Vehicle make involved\n",
    "\n",
    "**Driver State**     State issuing the driver's license\n",
    "\n",
    "**Time Of Stop**     Time when the violation was noted  \n",
    "\n",
    "**Gender**           Gender of the driver\n",
    "\n",
    "**Violation Type**   Classification of the violation (e.g., Citation)\n",
    "\n",
    "### Target Variable\n",
    "**Violation Type**: **This column is used as the target variable for predictions. It categorizes the type of violation, such as 'Citation', 'Warning', 'ESERO', SERO'.**\n",
    "\n",
    "### Dimensions\n",
    "**Number of Rows**: **132,728**\n",
    "\n",
    "**Number of Columns**: **7**"
   ]
  },
  {
   "cell_type": "markdown",
   "id": "226efccd",
   "metadata": {},
   "source": [
    "## Project Procedure\n"
   ]
  },
  {
   "cell_type": "markdown",
   "id": "fd980fdb",
   "metadata": {},
   "source": [
    "### 1. Data Cleaning and Preparation:\n"
   ]
  },
  {
   "cell_type": "markdown",
   "id": "a7710cd5",
   "metadata": {},
   "source": [
    "**Import necessary libraries**"
   ]
  },
  {
   "cell_type": "code",
   "execution_count": 1,
   "id": "06bd255a",
   "metadata": {},
   "outputs": [],
   "source": [
    "import warnings\n",
    "warnings.filterwarnings('ignore')"
   ]
  },
  {
   "cell_type": "code",
   "execution_count": 2,
   "id": "a2652597",
   "metadata": {},
   "outputs": [],
   "source": [
    "import joblib\n",
    "import matplotlib.pyplot as plt\n",
    "import numpy as np\n",
    "import pandas as pd\n",
    "import plotly.express as px\n",
    "import seaborn as sns\n",
    "from imblearn.over_sampling import SMOTE\n",
    "from scipy.stats import randint as sp_randint\n",
    "from sklearn.ensemble import RandomForestClassifier, GradientBoostingClassifier, VotingClassifier\n",
    "from sklearn.linear_model import LogisticRegression\n",
    "from sklearn.metrics import accuracy_score\n",
    "from sklearn.model_selection import train_test_split, cross_val_score, RandomizedSearchCV\n",
    "from sklearn.naive_bayes import GaussianNB\n",
    "from sklearn.neighbors import KNeighborsClassifier\n",
    "from sklearn.preprocessing import LabelEncoder\n",
    "from sklearn.tree import DecisionTreeClassifier\n"
   ]
  },
  {
   "cell_type": "markdown",
   "id": "3ffb6911",
   "metadata": {},
   "source": [
    "**Step 1 - Importing Libraries and Loading Data**"
   ]
  },
  {
   "cell_type": "code",
   "execution_count": 3,
   "id": "e9b0f1e7",
   "metadata": {},
   "outputs": [
    {
     "data": {
      "text/html": [
       "<div>\n",
       "<style scoped>\n",
       "    .dataframe tbody tr th:only-of-type {\n",
       "        vertical-align: middle;\n",
       "    }\n",
       "\n",
       "    .dataframe tbody tr th {\n",
       "        vertical-align: top;\n",
       "    }\n",
       "\n",
       "    .dataframe thead th {\n",
       "        text-align: right;\n",
       "    }\n",
       "</style>\n",
       "<table border=\"1\" class=\"dataframe\">\n",
       "  <thead>\n",
       "    <tr style=\"text-align: right;\">\n",
       "      <th></th>\n",
       "      <th>Description</th>\n",
       "      <th>Location</th>\n",
       "      <th>Make</th>\n",
       "      <th>Driver State</th>\n",
       "      <th>Time Of Stop</th>\n",
       "      <th>Gender</th>\n",
       "      <th>Violation Type</th>\n",
       "    </tr>\n",
       "  </thead>\n",
       "  <tbody>\n",
       "    <tr>\n",
       "      <th>0</th>\n",
       "      <td>DRIVING VEHICLE ON HIGHWAY WITH SUSPENDED REGI...</td>\n",
       "      <td>8804 FLOWER AVE</td>\n",
       "      <td>FORD</td>\n",
       "      <td>MD</td>\n",
       "      <td>17:11:00</td>\n",
       "      <td>M</td>\n",
       "      <td>Citation</td>\n",
       "    </tr>\n",
       "    <tr>\n",
       "      <th>1</th>\n",
       "      <td>DRIVING WHILE IMPAIRED BY ALCOHOL</td>\n",
       "      <td>NORFOLK AVE /  ST ELMO AVE</td>\n",
       "      <td>AUDI</td>\n",
       "      <td>MD</td>\n",
       "      <td>00:41:00</td>\n",
       "      <td>M</td>\n",
       "      <td>Citation</td>\n",
       "    </tr>\n",
       "    <tr>\n",
       "      <th>2</th>\n",
       "      <td>FAILURE TO STOP AT STOP SIGN</td>\n",
       "      <td>WISTERIA DR @ WARING STATION RD</td>\n",
       "      <td>TOYT</td>\n",
       "      <td>MD</td>\n",
       "      <td>23:12:00</td>\n",
       "      <td>F</td>\n",
       "      <td>Citation</td>\n",
       "    </tr>\n",
       "    <tr>\n",
       "      <th>3</th>\n",
       "      <td>DRIVER USING HANDS TO USE HANDHELD TELEPHONE W...</td>\n",
       "      <td>CLARENDON RD @ ELM ST. N/</td>\n",
       "      <td>HONDA</td>\n",
       "      <td>VA</td>\n",
       "      <td>16:10:00</td>\n",
       "      <td>M</td>\n",
       "      <td>Citation</td>\n",
       "    </tr>\n",
       "    <tr>\n",
       "      <th>4</th>\n",
       "      <td>FAILURE STOP AND YIELD AT THRU HWY</td>\n",
       "      <td>CHRISTOPHER AVE/MONTGOMERY VILLAGE AVE</td>\n",
       "      <td>HONDA</td>\n",
       "      <td>MD</td>\n",
       "      <td>12:52:00</td>\n",
       "      <td>F</td>\n",
       "      <td>Citation</td>\n",
       "    </tr>\n",
       "  </tbody>\n",
       "</table>\n",
       "</div>"
      ],
      "text/plain": [
       "                                         Description  \\\n",
       "0  DRIVING VEHICLE ON HIGHWAY WITH SUSPENDED REGI...   \n",
       "1                  DRIVING WHILE IMPAIRED BY ALCOHOL   \n",
       "2                       FAILURE TO STOP AT STOP SIGN   \n",
       "3  DRIVER USING HANDS TO USE HANDHELD TELEPHONE W...   \n",
       "4                 FAILURE STOP AND YIELD AT THRU HWY   \n",
       "\n",
       "                                 Location   Make Driver State Time Of Stop  \\\n",
       "0                         8804 FLOWER AVE   FORD           MD     17:11:00   \n",
       "1              NORFOLK AVE /  ST ELMO AVE   AUDI           MD     00:41:00   \n",
       "2         WISTERIA DR @ WARING STATION RD   TOYT           MD     23:12:00   \n",
       "3               CLARENDON RD @ ELM ST. N/  HONDA           VA     16:10:00   \n",
       "4  CHRISTOPHER AVE/MONTGOMERY VILLAGE AVE  HONDA           MD     12:52:00   \n",
       "\n",
       "  Gender Violation Type  \n",
       "0      M       Citation  \n",
       "1      M       Citation  \n",
       "2      F       Citation  \n",
       "3      M       Citation  \n",
       "4      F       Citation  "
      ]
     },
     "execution_count": 3,
     "metadata": {},
     "output_type": "execute_result"
    }
   ],
   "source": [
    "import pandas as pd\n",
    "\n",
    "data = pd.read_csv('Trafficviolations.csv')\n",
    "data.head()"
   ]
  },
  {
   "cell_type": "markdown",
   "id": "8940b033",
   "metadata": {},
   "source": [
    "**Step 2 - Displaying Last Entries of the Dataset**"
   ]
  },
  {
   "cell_type": "code",
   "execution_count": 4,
   "id": "f0813f93",
   "metadata": {},
   "outputs": [
    {
     "data": {
      "text/html": [
       "<div>\n",
       "<style scoped>\n",
       "    .dataframe tbody tr th:only-of-type {\n",
       "        vertical-align: middle;\n",
       "    }\n",
       "\n",
       "    .dataframe tbody tr th {\n",
       "        vertical-align: top;\n",
       "    }\n",
       "\n",
       "    .dataframe thead th {\n",
       "        text-align: right;\n",
       "    }\n",
       "</style>\n",
       "<table border=\"1\" class=\"dataframe\">\n",
       "  <thead>\n",
       "    <tr style=\"text-align: right;\">\n",
       "      <th></th>\n",
       "      <th>Description</th>\n",
       "      <th>Location</th>\n",
       "      <th>Make</th>\n",
       "      <th>Driver State</th>\n",
       "      <th>Time Of Stop</th>\n",
       "      <th>Gender</th>\n",
       "      <th>Violation Type</th>\n",
       "    </tr>\n",
       "  </thead>\n",
       "  <tbody>\n",
       "    <tr>\n",
       "      <th>742154</th>\n",
       "      <td>OPERATING MOTOR VEHICLE IN CONDITION LIKELY TO...</td>\n",
       "      <td>NB 270 X16</td>\n",
       "      <td>GMC</td>\n",
       "      <td>VA</td>\n",
       "      <td>14:20:00</td>\n",
       "      <td>M</td>\n",
       "      <td>Warning</td>\n",
       "    </tr>\n",
       "    <tr>\n",
       "      <th>742155</th>\n",
       "      <td>OPERATING A M/V W/O PROPER REQUIRED EMERGENCY ...</td>\n",
       "      <td>NB 270 X16</td>\n",
       "      <td>GMC</td>\n",
       "      <td>VA</td>\n",
       "      <td>14:20:00</td>\n",
       "      <td>M</td>\n",
       "      <td>Warning</td>\n",
       "    </tr>\n",
       "    <tr>\n",
       "      <th>742156</th>\n",
       "      <td>DRIVER FAILING TO PREVENT AGAINST LOSS OF LOAD</td>\n",
       "      <td>NB 270 X16</td>\n",
       "      <td>GMC</td>\n",
       "      <td>VA</td>\n",
       "      <td>14:20:00</td>\n",
       "      <td>M</td>\n",
       "      <td>Warning</td>\n",
       "    </tr>\n",
       "    <tr>\n",
       "      <th>742157</th>\n",
       "      <td>HEADLIGHT, TAILLIGHT, STOPLIGHT, TURN SIGNAL, ...</td>\n",
       "      <td>NB 270 X16</td>\n",
       "      <td>GMC</td>\n",
       "      <td>VA</td>\n",
       "      <td>14:20:00</td>\n",
       "      <td>M</td>\n",
       "      <td>Warning</td>\n",
       "    </tr>\n",
       "    <tr>\n",
       "      <th>742158</th>\n",
       "      <td>PARTS/ACCESSORIES NOT SPECIFICALLY PROVIDED FO...</td>\n",
       "      <td>NB 270 X16</td>\n",
       "      <td>GMC</td>\n",
       "      <td>VA</td>\n",
       "      <td>14:20:00</td>\n",
       "      <td>M</td>\n",
       "      <td>Warning</td>\n",
       "    </tr>\n",
       "  </tbody>\n",
       "</table>\n",
       "</div>"
      ],
      "text/plain": [
       "                                              Description    Location Make  \\\n",
       "742154  OPERATING MOTOR VEHICLE IN CONDITION LIKELY TO...  NB 270 X16  GMC   \n",
       "742155  OPERATING A M/V W/O PROPER REQUIRED EMERGENCY ...  NB 270 X16  GMC   \n",
       "742156     DRIVER FAILING TO PREVENT AGAINST LOSS OF LOAD  NB 270 X16  GMC   \n",
       "742157  HEADLIGHT, TAILLIGHT, STOPLIGHT, TURN SIGNAL, ...  NB 270 X16  GMC   \n",
       "742158  PARTS/ACCESSORIES NOT SPECIFICALLY PROVIDED FO...  NB 270 X16  GMC   \n",
       "\n",
       "       Driver State Time Of Stop Gender Violation Type  \n",
       "742154           VA     14:20:00      M        Warning  \n",
       "742155           VA     14:20:00      M        Warning  \n",
       "742156           VA     14:20:00      M        Warning  \n",
       "742157           VA     14:20:00      M        Warning  \n",
       "742158           VA     14:20:00      M        Warning  "
      ]
     },
     "execution_count": 4,
     "metadata": {},
     "output_type": "execute_result"
    }
   ],
   "source": [
    "data.tail()\n"
   ]
  },
  {
   "cell_type": "markdown",
   "id": "816af671",
   "metadata": {},
   "source": [
    "**Step 3 - General Information about the Dataset**"
   ]
  },
  {
   "cell_type": "code",
   "execution_count": 5,
   "id": "deb5e07b",
   "metadata": {},
   "outputs": [
    {
     "name": "stdout",
     "output_type": "stream",
     "text": [
      "<class 'pandas.core.frame.DataFrame'>\n",
      "RangeIndex: 742159 entries, 0 to 742158\n",
      "Data columns (total 7 columns):\n",
      " #   Column          Non-Null Count   Dtype \n",
      "---  ------          --------------   ----- \n",
      " 0   Description     742152 non-null  object\n",
      " 1   Location        742158 non-null  object\n",
      " 2   Make            742119 non-null  object\n",
      " 3   Driver State    742149 non-null  object\n",
      " 4   Time Of Stop    742159 non-null  object\n",
      " 5   Gender          742159 non-null  object\n",
      " 6   Violation Type  742159 non-null  object\n",
      "dtypes: object(7)\n",
      "memory usage: 39.6+ MB\n"
     ]
    }
   ],
   "source": [
    "data.info()"
   ]
  },
  {
   "cell_type": "code",
   "execution_count": 6,
   "id": "061197e9",
   "metadata": {},
   "outputs": [
    {
     "data": {
      "text/plain": [
       "<bound method DataFrame.corr of                                               Description  \\\n",
       "0       DRIVING VEHICLE ON HIGHWAY WITH SUSPENDED REGI...   \n",
       "1                       DRIVING WHILE IMPAIRED BY ALCOHOL   \n",
       "2                            FAILURE TO STOP AT STOP SIGN   \n",
       "3       DRIVER USING HANDS TO USE HANDHELD TELEPHONE W...   \n",
       "4                      FAILURE STOP AND YIELD AT THRU HWY   \n",
       "...                                                   ...   \n",
       "742154  OPERATING MOTOR VEHICLE IN CONDITION LIKELY TO...   \n",
       "742155  OPERATING A M/V W/O PROPER REQUIRED EMERGENCY ...   \n",
       "742156     DRIVER FAILING TO PREVENT AGAINST LOSS OF LOAD   \n",
       "742157  HEADLIGHT, TAILLIGHT, STOPLIGHT, TURN SIGNAL, ...   \n",
       "742158  PARTS/ACCESSORIES NOT SPECIFICALLY PROVIDED FO...   \n",
       "\n",
       "                                      Location   Make Driver State  \\\n",
       "0                              8804 FLOWER AVE   FORD           MD   \n",
       "1                   NORFOLK AVE /  ST ELMO AVE   AUDI           MD   \n",
       "2              WISTERIA DR @ WARING STATION RD   TOYT           MD   \n",
       "3                    CLARENDON RD @ ELM ST. N/  HONDA           VA   \n",
       "4       CHRISTOPHER AVE/MONTGOMERY VILLAGE AVE  HONDA           MD   \n",
       "...                                        ...    ...          ...   \n",
       "742154                              NB 270 X16    GMC           VA   \n",
       "742155                              NB 270 X16    GMC           VA   \n",
       "742156                              NB 270 X16    GMC           VA   \n",
       "742157                              NB 270 X16    GMC           VA   \n",
       "742158                              NB 270 X16    GMC           VA   \n",
       "\n",
       "       Time Of Stop Gender Violation Type  \n",
       "0          17:11:00      M       Citation  \n",
       "1          00:41:00      M       Citation  \n",
       "2          23:12:00      F       Citation  \n",
       "3          16:10:00      M       Citation  \n",
       "4          12:52:00      F       Citation  \n",
       "...             ...    ...            ...  \n",
       "742154     14:20:00      M        Warning  \n",
       "742155     14:20:00      M        Warning  \n",
       "742156     14:20:00      M        Warning  \n",
       "742157     14:20:00      M        Warning  \n",
       "742158     14:20:00      M        Warning  \n",
       "\n",
       "[742159 rows x 7 columns]>"
      ]
     },
     "execution_count": 6,
     "metadata": {},
     "output_type": "execute_result"
    }
   ],
   "source": [
    "data.corr"
   ]
  },
  {
   "cell_type": "code",
   "execution_count": 7,
   "id": "9c8c250c",
   "metadata": {},
   "outputs": [
    {
     "data": {
      "text/html": [
       "<div>\n",
       "<style scoped>\n",
       "    .dataframe tbody tr th:only-of-type {\n",
       "        vertical-align: middle;\n",
       "    }\n",
       "\n",
       "    .dataframe tbody tr th {\n",
       "        vertical-align: top;\n",
       "    }\n",
       "\n",
       "    .dataframe thead th {\n",
       "        text-align: right;\n",
       "    }\n",
       "</style>\n",
       "<table border=\"1\" class=\"dataframe\">\n",
       "  <thead>\n",
       "    <tr style=\"text-align: right;\">\n",
       "      <th></th>\n",
       "      <th>Description</th>\n",
       "      <th>Location</th>\n",
       "      <th>Make</th>\n",
       "      <th>Driver State</th>\n",
       "      <th>Time Of Stop</th>\n",
       "      <th>Gender</th>\n",
       "      <th>Violation Type</th>\n",
       "    </tr>\n",
       "  </thead>\n",
       "  <tbody>\n",
       "    <tr>\n",
       "      <th>count</th>\n",
       "      <td>742152</td>\n",
       "      <td>742158</td>\n",
       "      <td>742119</td>\n",
       "      <td>742149</td>\n",
       "      <td>742159</td>\n",
       "      <td>742159</td>\n",
       "      <td>742159</td>\n",
       "    </tr>\n",
       "    <tr>\n",
       "      <th>unique</th>\n",
       "      <td>9131</td>\n",
       "      <td>121997</td>\n",
       "      <td>2660</td>\n",
       "      <td>66</td>\n",
       "      <td>1440</td>\n",
       "      <td>3</td>\n",
       "      <td>4</td>\n",
       "    </tr>\n",
       "    <tr>\n",
       "      <th>top</th>\n",
       "      <td>DRIVER FAILURE TO OBEY PROPERLY PLACED TRAFFIC...</td>\n",
       "      <td>IS 370 @ IS 270</td>\n",
       "      <td>TOYOTA</td>\n",
       "      <td>MD</td>\n",
       "      <td>23:20:00</td>\n",
       "      <td>M</td>\n",
       "      <td>Citation</td>\n",
       "    </tr>\n",
       "    <tr>\n",
       "      <th>freq</th>\n",
       "      <td>56364</td>\n",
       "      <td>1935</td>\n",
       "      <td>79110</td>\n",
       "      <td>670475</td>\n",
       "      <td>993</td>\n",
       "      <td>503183</td>\n",
       "      <td>495956</td>\n",
       "    </tr>\n",
       "  </tbody>\n",
       "</table>\n",
       "</div>"
      ],
      "text/plain": [
       "                                              Description         Location  \\\n",
       "count                                              742152           742158   \n",
       "unique                                               9131           121997   \n",
       "top     DRIVER FAILURE TO OBEY PROPERLY PLACED TRAFFIC...  IS 370 @ IS 270   \n",
       "freq                                                56364             1935   \n",
       "\n",
       "          Make Driver State Time Of Stop  Gender Violation Type  \n",
       "count   742119       742149       742159  742159         742159  \n",
       "unique    2660           66         1440       3              4  \n",
       "top     TOYOTA           MD     23:20:00       M       Citation  \n",
       "freq     79110       670475          993  503183         495956  "
      ]
     },
     "execution_count": 7,
     "metadata": {},
     "output_type": "execute_result"
    }
   ],
   "source": [
    "data.describe()"
   ]
  },
  {
   "cell_type": "code",
   "execution_count": 8,
   "id": "b9a68941",
   "metadata": {},
   "outputs": [
    {
     "data": {
      "text/plain": [
       "(742159, 7)"
      ]
     },
     "execution_count": 8,
     "metadata": {},
     "output_type": "execute_result"
    }
   ],
   "source": [
    "data.shape\n"
   ]
  },
  {
   "cell_type": "code",
   "execution_count": 9,
   "id": "599185ff",
   "metadata": {},
   "outputs": [
    {
     "data": {
      "text/plain": [
       "Index(['Description', 'Location', 'Make', 'Driver State', 'Time Of Stop',\n",
       "       'Gender', 'Violation Type'],\n",
       "      dtype='object')"
      ]
     },
     "execution_count": 9,
     "metadata": {},
     "output_type": "execute_result"
    }
   ],
   "source": [
    "data.columns\n"
   ]
  },
  {
   "cell_type": "markdown",
   "id": "c1f5ad1d",
   "metadata": {},
   "source": [
    "**Step 4 - Checking for Missing Values**"
   ]
  },
  {
   "cell_type": "code",
   "execution_count": 10,
   "id": "b07268db",
   "metadata": {},
   "outputs": [
    {
     "data": {
      "text/plain": [
       "Description        7\n",
       "Location           1\n",
       "Make              40\n",
       "Driver State      10\n",
       "Time Of Stop       0\n",
       "Gender             0\n",
       "Violation Type     0\n",
       "dtype: int64"
      ]
     },
     "execution_count": 10,
     "metadata": {},
     "output_type": "execute_result"
    }
   ],
   "source": [
    "data.isnull().sum()\n"
   ]
  },
  {
   "cell_type": "code",
   "execution_count": 11,
   "id": "079b4f23",
   "metadata": {},
   "outputs": [],
   "source": [
    "data.dropna(axis=1, how='all', inplace=True)\n",
    "data.dropna(inplace=True)"
   ]
  },
  {
   "cell_type": "code",
   "execution_count": 12,
   "id": "3555e1f7",
   "metadata": {},
   "outputs": [
    {
     "data": {
      "text/plain": [
       "Description       0\n",
       "Location          0\n",
       "Make              0\n",
       "Driver State      0\n",
       "Time Of Stop      0\n",
       "Gender            0\n",
       "Violation Type    0\n",
       "dtype: int64"
      ]
     },
     "execution_count": 12,
     "metadata": {},
     "output_type": "execute_result"
    }
   ],
   "source": [
    "data.isnull().sum()\n"
   ]
  },
  {
   "cell_type": "code",
   "execution_count": 13,
   "id": "194c6d8f",
   "metadata": {},
   "outputs": [
    {
     "data": {
      "text/plain": [
       "Description       object\n",
       "Location          object\n",
       "Make              object\n",
       "Driver State      object\n",
       "Time Of Stop      object\n",
       "Gender            object\n",
       "Violation Type    object\n",
       "dtype: object"
      ]
     },
     "execution_count": 13,
     "metadata": {},
     "output_type": "execute_result"
    }
   ],
   "source": [
    "data.dtypes\n"
   ]
  },
  {
   "cell_type": "code",
   "execution_count": 14,
   "id": "3b399b03",
   "metadata": {},
   "outputs": [
    {
     "data": {
      "text/plain": [
       "0         False\n",
       "1         False\n",
       "2         False\n",
       "3         False\n",
       "4         False\n",
       "          ...  \n",
       "742154    False\n",
       "742155    False\n",
       "742156    False\n",
       "742157    False\n",
       "742158    False\n",
       "Length: 742101, dtype: bool"
      ]
     },
     "execution_count": 14,
     "metadata": {},
     "output_type": "execute_result"
    }
   ],
   "source": [
    "duplicate_rows = data.duplicated()\n",
    "duplicate_rows"
   ]
  },
  {
   "cell_type": "code",
   "execution_count": 15,
   "id": "be16a21a",
   "metadata": {},
   "outputs": [
    {
     "data": {
      "text/plain": [
       "array([False, False, False, False, False, False, False])"
      ]
     },
     "execution_count": 15,
     "metadata": {},
     "output_type": "execute_result"
    }
   ],
   "source": [
    "duplicate_columns = data.columns.duplicated()\n",
    "duplicate_columns"
   ]
  },
  {
   "cell_type": "markdown",
   "id": "4e100e3f",
   "metadata": {},
   "source": [
    "**Step 5 - Data Type Conversion**"
   ]
  },
  {
   "cell_type": "code",
   "execution_count": 16,
   "id": "cfc7d339",
   "metadata": {},
   "outputs": [],
   "source": [
    "data['Time Of Stop'] = pd.to_datetime('1900-01-01 ' + data['Time Of Stop'].astype(str))\n",
    "\n",
    "# Convert categorical data to 'category' dtype to save memory and improve performance\n",
    "data['Description'] = data['Description'].astype('category')\n",
    "data['Location'] = data['Location'].astype('category')\n",
    "data['Make'] = data['Make'].astype('category')\n",
    "data['Driver State'] = data['Driver State'].astype('category')\n",
    "data['Gender'] = data['Gender'].astype('category')\n",
    "data['Violation Type'] = data['Violation Type'].astype('category')\n"
   ]
  },
  {
   "cell_type": "markdown",
   "id": "27e4f7ab",
   "metadata": {},
   "source": [
    "**Convert time and categorical columns to appropriate data types to save memory and improve performance**"
   ]
  },
  {
   "cell_type": "code",
   "execution_count": 17,
   "id": "6da3c6b2",
   "metadata": {},
   "outputs": [
    {
     "data": {
      "text/plain": [
       "Description             category\n",
       "Location                category\n",
       "Make                    category\n",
       "Driver State            category\n",
       "Time Of Stop      datetime64[ns]\n",
       "Gender                  category\n",
       "Violation Type          category\n",
       "dtype: object"
      ]
     },
     "execution_count": 17,
     "metadata": {},
     "output_type": "execute_result"
    }
   ],
   "source": [
    "data.dtypes\n"
   ]
  },
  {
   "cell_type": "markdown",
   "id": "7263595e",
   "metadata": {},
   "source": [
    "**Step 6 - Analysis of 'Violation Type**"
   ]
  },
  {
   "cell_type": "code",
   "execution_count": 18,
   "id": "3fe379cc",
   "metadata": {},
   "outputs": [
    {
     "data": {
      "text/plain": [
       "Citation    0.668282\n",
       "Warning     0.320248\n",
       "ESERO       0.011439\n",
       "SERO        0.000031\n",
       "Name: Violation Type, dtype: float64"
      ]
     },
     "execution_count": 18,
     "metadata": {},
     "output_type": "execute_result"
    }
   ],
   "source": [
    "data['Violation Type'].value_counts(normalize=True)\n"
   ]
  },
  {
   "cell_type": "code",
   "execution_count": 19,
   "id": "1c00251e",
   "metadata": {},
   "outputs": [
    {
     "data": {
      "text/plain": [
       "4"
      ]
     },
     "execution_count": 19,
     "metadata": {},
     "output_type": "execute_result"
    }
   ],
   "source": [
    "data['Violation Type'].nunique()\n"
   ]
  },
  {
   "cell_type": "code",
   "execution_count": 20,
   "id": "73f53778",
   "metadata": {},
   "outputs": [
    {
     "data": {
      "text/plain": [
       "Citation    495933\n",
       "Warning     237656\n",
       "ESERO         8489\n",
       "SERO            23\n",
       "Name: Violation Type, dtype: int64"
      ]
     },
     "execution_count": 20,
     "metadata": {},
     "output_type": "execute_result"
    }
   ],
   "source": [
    "data['Violation Type'].value_counts()\n"
   ]
  },
  {
   "cell_type": "markdown",
   "id": "b3dc8b3b",
   "metadata": {},
   "source": [
    "**Step 7 - Aggregating Description Based on Violation Type**"
   ]
  },
  {
   "cell_type": "code",
   "execution_count": 21,
   "id": "8b0bcf4e",
   "metadata": {},
   "outputs": [
    {
     "data": {
      "text/plain": [
       "Violation Type                                                                                                   \n",
       "Citation        DRIVER FAILURE TO OBEY PROPERLY PLACED TRAFFIC CONTROL DEVICE INSTRUCTIONS                           27042\n",
       "                PERSON DRIVING MOTOR VEHICLE ON HIGHWAY OR PUBLIC USE PROPERTY ON SUSPENDED LICENSE AND PRIVILEGE    20968\n",
       "                DRIVING VEHICLE ON HIGHWAY WITH SUSPENDED REGISTRATION                                               18629\n",
       "                FAILURE OF INDIVIDUAL DRIVING ON HIGHWAY TO DISPLAY LICENSE TO UNIFORMED POLICE ON DEMAND            18076\n",
       "                FAILURE TO DISPLAY REGISTRATION CARD UPON DEMAND BY POLICE OFFICER                                   17491\n",
       "                                                                                                                     ...  \n",
       "Warning         DRIVING VEHICLE IN EXCESS OF REASONABLE AND PRUDENT SPEED ON HIGHWAY 50/25                               0\n",
       "                DRIVING VEHICLE IN EXCESS OF REASONABLE AND PRUDENT SPEED ON HIGHWAY 50/40-ICY                           0\n",
       "                DRIVING VEHICLE IN EXCESS OF REASONABLE AND PRUDENT SPEED ON HIGHWAY 50/40MPH                            0\n",
       "                FUEL SYSTEM                                                                                              0\n",
       "                , ATTEMPTING TO DRIVE MOTOR VEHICLE ON HIGHWAY WITHOUT REQUIRED LICENSE AND AUTHORIZATION                0\n",
       "Name: Description, Length: 36512, dtype: int64"
      ]
     },
     "execution_count": 21,
     "metadata": {},
     "output_type": "execute_result"
    }
   ],
   "source": [
    "data.groupby('Violation Type')['Description'].value_counts()\n",
    "\n"
   ]
  },
  {
   "cell_type": "code",
   "execution_count": 22,
   "id": "ee23e250",
   "metadata": {},
   "outputs": [
    {
     "data": {
      "text/plain": [
       "Violation Type                                                                                                   \n",
       "Citation        DRIVER FAILURE TO OBEY PROPERLY PLACED TRAFFIC CONTROL DEVICE INSTRUCTIONS                           27042\n",
       "                PERSON DRIVING MOTOR VEHICLE ON HIGHWAY OR PUBLIC USE PROPERTY ON SUSPENDED LICENSE AND PRIVILEGE    20968\n",
       "                DRIVING VEHICLE ON HIGHWAY WITH SUSPENDED REGISTRATION                                               18629\n",
       "ESERO           STOP LIGHTS (*)                                                                                       3189\n",
       "                HEADLIGHTS (*)                                                                                        1317\n",
       "                WINDOW TINT                                                                                            979\n",
       "SERO            DRIVING A MOTOR VEH WITHOUT A VALID MEDICAL EXAMINERS CERTIFICATE IN POSSESSION                          6\n",
       "                HEADLIGHT INOPERATIVE                                                                                    4\n",
       "                USING HAND-HELD MOBILE PHONE WHILE OPERATING A COMMERCIAL MOTOR VEHICLE                                  2\n",
       "Warning         DRIVER FAILURE TO OBEY PROPERLY PLACED TRAFFIC CONTROL DEVICE INSTRUCTIONS                           29321\n",
       "                FAILURE TO DISPLAY REGISTRATION CARD UPON DEMAND BY POLICE OFFICER                                   15129\n",
       "                EXCEEDING THE POSTED SPEED LIMIT OF 30 MPH                                                           13332\n",
       "Name: Description, dtype: int64"
      ]
     },
     "execution_count": 22,
     "metadata": {},
     "output_type": "execute_result"
    }
   ],
   "source": [
    "data.groupby('Violation Type')['Description'].value_counts().groupby(level=0).head(3)\n"
   ]
  },
  {
   "cell_type": "markdown",
   "id": "6bb5c4c2",
   "metadata": {},
   "source": [
    "**Show the top three descriptions per violation type for detailed insights**"
   ]
  },
  {
   "cell_type": "code",
   "execution_count": 23,
   "id": "16fde5f0",
   "metadata": {},
   "outputs": [
    {
     "name": "stdout",
     "output_type": "stream",
     "text": [
      "Numeric columns: Index([], dtype='object')\n"
     ]
    }
   ],
   "source": [
    "numeric_columns = data.select_dtypes(include=['number']).columns\n",
    "print(\"Numeric columns:\", numeric_columns)"
   ]
  },
  {
   "cell_type": "code",
   "execution_count": 24,
   "id": "7c04986f",
   "metadata": {},
   "outputs": [
    {
     "name": "stdout",
     "output_type": "stream",
     "text": [
      "Categorical columns: Index([], dtype='object')\n"
     ]
    }
   ],
   "source": [
    "categorical_columns = data.select_dtypes(include=['object']).columns\n",
    "print(\"Categorical columns:\", categorical_columns)"
   ]
  },
  {
   "cell_type": "markdown",
   "id": "58641113",
   "metadata": {},
   "source": [
    "**Step 8 - Determine Time of Day from Time of Stop**"
   ]
  },
  {
   "cell_type": "code",
   "execution_count": 25,
   "id": "51194e3f",
   "metadata": {},
   "outputs": [],
   "source": [
    "# Function to determine if the time is day or night\n",
    "def time_of_day(time):\n",
    "    if 6 <= time.hour < 18:\n",
    "        return 'Day'\n",
    "    else:\n",
    "        return 'Night'\n",
    "\n",
    "# Apply this function to the 'Time Of Stop' column\n",
    "data['Time of Day'] = data['Time Of Stop'].apply(time_of_day)\n"
   ]
  },
  {
   "cell_type": "markdown",
   "id": "7a64b7d1",
   "metadata": {},
   "source": [
    "**Categorize traffic stops into day or night based on the time they occurred**"
   ]
  },
  {
   "cell_type": "code",
   "execution_count": 26,
   "id": "12b31384",
   "metadata": {},
   "outputs": [
    {
     "data": {
      "text/html": [
       "<div>\n",
       "<style scoped>\n",
       "    .dataframe tbody tr th:only-of-type {\n",
       "        vertical-align: middle;\n",
       "    }\n",
       "\n",
       "    .dataframe tbody tr th {\n",
       "        vertical-align: top;\n",
       "    }\n",
       "\n",
       "    .dataframe thead th {\n",
       "        text-align: right;\n",
       "    }\n",
       "</style>\n",
       "<table border=\"1\" class=\"dataframe\">\n",
       "  <thead>\n",
       "    <tr style=\"text-align: right;\">\n",
       "      <th></th>\n",
       "      <th>Description</th>\n",
       "      <th>Location</th>\n",
       "      <th>Make</th>\n",
       "      <th>Driver State</th>\n",
       "      <th>Time Of Stop</th>\n",
       "      <th>Gender</th>\n",
       "      <th>Violation Type</th>\n",
       "      <th>Time of Day</th>\n",
       "    </tr>\n",
       "  </thead>\n",
       "  <tbody>\n",
       "    <tr>\n",
       "      <th>0</th>\n",
       "      <td>DRIVING VEHICLE ON HIGHWAY WITH SUSPENDED REGI...</td>\n",
       "      <td>8804 FLOWER AVE</td>\n",
       "      <td>FORD</td>\n",
       "      <td>MD</td>\n",
       "      <td>1900-01-01 17:11:00</td>\n",
       "      <td>M</td>\n",
       "      <td>Citation</td>\n",
       "      <td>Day</td>\n",
       "    </tr>\n",
       "    <tr>\n",
       "      <th>1</th>\n",
       "      <td>DRIVING WHILE IMPAIRED BY ALCOHOL</td>\n",
       "      <td>NORFOLK AVE /  ST ELMO AVE</td>\n",
       "      <td>AUDI</td>\n",
       "      <td>MD</td>\n",
       "      <td>1900-01-01 00:41:00</td>\n",
       "      <td>M</td>\n",
       "      <td>Citation</td>\n",
       "      <td>Night</td>\n",
       "    </tr>\n",
       "    <tr>\n",
       "      <th>2</th>\n",
       "      <td>FAILURE TO STOP AT STOP SIGN</td>\n",
       "      <td>WISTERIA DR @ WARING STATION RD</td>\n",
       "      <td>TOYT</td>\n",
       "      <td>MD</td>\n",
       "      <td>1900-01-01 23:12:00</td>\n",
       "      <td>F</td>\n",
       "      <td>Citation</td>\n",
       "      <td>Night</td>\n",
       "    </tr>\n",
       "    <tr>\n",
       "      <th>3</th>\n",
       "      <td>DRIVER USING HANDS TO USE HANDHELD TELEPHONE W...</td>\n",
       "      <td>CLARENDON RD @ ELM ST. N/</td>\n",
       "      <td>HONDA</td>\n",
       "      <td>VA</td>\n",
       "      <td>1900-01-01 16:10:00</td>\n",
       "      <td>M</td>\n",
       "      <td>Citation</td>\n",
       "      <td>Day</td>\n",
       "    </tr>\n",
       "    <tr>\n",
       "      <th>4</th>\n",
       "      <td>FAILURE STOP AND YIELD AT THRU HWY</td>\n",
       "      <td>CHRISTOPHER AVE/MONTGOMERY VILLAGE AVE</td>\n",
       "      <td>HONDA</td>\n",
       "      <td>MD</td>\n",
       "      <td>1900-01-01 12:52:00</td>\n",
       "      <td>F</td>\n",
       "      <td>Citation</td>\n",
       "      <td>Day</td>\n",
       "    </tr>\n",
       "  </tbody>\n",
       "</table>\n",
       "</div>"
      ],
      "text/plain": [
       "                                         Description  \\\n",
       "0  DRIVING VEHICLE ON HIGHWAY WITH SUSPENDED REGI...   \n",
       "1                  DRIVING WHILE IMPAIRED BY ALCOHOL   \n",
       "2                       FAILURE TO STOP AT STOP SIGN   \n",
       "3  DRIVER USING HANDS TO USE HANDHELD TELEPHONE W...   \n",
       "4                 FAILURE STOP AND YIELD AT THRU HWY   \n",
       "\n",
       "                                 Location   Make Driver State  \\\n",
       "0                         8804 FLOWER AVE   FORD           MD   \n",
       "1              NORFOLK AVE /  ST ELMO AVE   AUDI           MD   \n",
       "2         WISTERIA DR @ WARING STATION RD   TOYT           MD   \n",
       "3               CLARENDON RD @ ELM ST. N/  HONDA           VA   \n",
       "4  CHRISTOPHER AVE/MONTGOMERY VILLAGE AVE  HONDA           MD   \n",
       "\n",
       "         Time Of Stop Gender Violation Type Time of Day  \n",
       "0 1900-01-01 17:11:00      M       Citation         Day  \n",
       "1 1900-01-01 00:41:00      M       Citation       Night  \n",
       "2 1900-01-01 23:12:00      F       Citation       Night  \n",
       "3 1900-01-01 16:10:00      M       Citation         Day  \n",
       "4 1900-01-01 12:52:00      F       Citation         Day  "
      ]
     },
     "execution_count": 26,
     "metadata": {},
     "output_type": "execute_result"
    }
   ],
   "source": [
    "data.head()\n"
   ]
  },
  {
   "cell_type": "code",
   "execution_count": 27,
   "id": "181d7f97",
   "metadata": {},
   "outputs": [
    {
     "data": {
      "text/plain": [
       "Description             category\n",
       "Location                category\n",
       "Make                    category\n",
       "Driver State            category\n",
       "Time Of Stop      datetime64[ns]\n",
       "Gender                  category\n",
       "Violation Type          category\n",
       "Time of Day               object\n",
       "dtype: object"
      ]
     },
     "execution_count": 27,
     "metadata": {},
     "output_type": "execute_result"
    }
   ],
   "source": [
    "data.dtypes\n"
   ]
  },
  {
   "cell_type": "markdown",
   "id": "c1e76748",
   "metadata": {},
   "source": [
    "**Step 9 - Conversions of the data types after the feature extraction**"
   ]
  },
  {
   "cell_type": "code",
   "execution_count": 28,
   "id": "cfc3606e",
   "metadata": {},
   "outputs": [],
   "source": [
    "# Convert columns to relevant data types\n",
    "data['Location'] = data['Location'].astype('category')\n",
    "data['Make'] = data['Make'].astype('category')\n",
    "data['Driver State'] = data['Driver State'].astype('category')\n",
    "data['Gender'] = data['Gender'].astype('category')\n",
    "data['Violation Type'] = data['Violation Type'].astype('category')\n",
    "data['Time Of Stop'] = pd.to_datetime(data['Time Of Stop'])\n",
    "data['Time of Day'] = pd.to_datetime(data['Time of Day'], errors='coerce')"
   ]
  },
  {
   "cell_type": "code",
   "execution_count": 29,
   "id": "ace50ea7",
   "metadata": {},
   "outputs": [
    {
     "data": {
      "text/plain": [
       "Description             category\n",
       "Location                category\n",
       "Make                    category\n",
       "Driver State            category\n",
       "Time Of Stop      datetime64[ns]\n",
       "Gender                  category\n",
       "Violation Type          category\n",
       "Time of Day       datetime64[ns]\n",
       "dtype: object"
      ]
     },
     "execution_count": 29,
     "metadata": {},
     "output_type": "execute_result"
    }
   ],
   "source": [
    "data.dtypes"
   ]
  }
 ],
 "metadata": {
  "kernelspec": {
   "display_name": "Python 3 (ipykernel)",
   "language": "python",
   "name": "python3"
  },
  "language_info": {
   "codemirror_mode": {
    "name": "ipython",
    "version": 3
   },
   "file_extension": ".py",
   "mimetype": "text/x-python",
   "name": "python",
   "nbconvert_exporter": "python",
   "pygments_lexer": "ipython3",
   "version": "3.9.13"
  }
 },
 "nbformat": 4,
 "nbformat_minor": 5
}
