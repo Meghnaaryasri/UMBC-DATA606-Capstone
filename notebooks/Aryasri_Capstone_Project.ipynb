{
 "cells": [
  {
   "cell_type": "markdown",
   "id": "69b3b462",
   "metadata": {},
   "source": [
    "## Data Description:\n",
    "\n",
    "**The dataset \"Traffic_Violations_USA.csv\" contains information on traffic violations in the United States, including details such as the date and time of the violation, location, type of violation, driver demographics, and enforcement-related information.**"
   ]
  },
  {
   "cell_type": "markdown",
   "id": "5b404c4d",
   "metadata": {},
   "source": [
    "**Data Source --- Kaggle --- \"https://www.kaggle.com/datasets/felix4guti/traffic-violations-in-usa/data\"**"
   ]
  },
  {
   "cell_type": "markdown",
   "id": "a5756619",
   "metadata": {},
   "source": [
    "## 1. Data Cleaning and Preparation:\n",
    "**1.1 Import Data:**"
   ]
  },
  {
   "cell_type": "code",
   "execution_count": 1,
   "id": "68eca3be",
   "metadata": {},
   "outputs": [
    {
     "name": "stderr",
     "output_type": "stream",
     "text": [
      "C:\\Users\\paspu\\AppData\\Local\\Temp\\ipykernel_20604\\3183623884.py:5: DtypeWarning: Columns (26) have mixed types. Specify dtype option on import or set low_memory=False.\n",
      "  traffic_violations_df = pd.read_csv(file_path)\n"
     ]
    },
    {
     "data": {
      "text/html": [
       "<div>\n",
       "<style scoped>\n",
       "    .dataframe tbody tr th:only-of-type {\n",
       "        vertical-align: middle;\n",
       "    }\n",
       "\n",
       "    .dataframe tbody tr th {\n",
       "        vertical-align: top;\n",
       "    }\n",
       "\n",
       "    .dataframe thead th {\n",
       "        text-align: right;\n",
       "    }\n",
       "</style>\n",
       "<table border=\"1\" class=\"dataframe\">\n",
       "  <thead>\n",
       "    <tr style=\"text-align: right;\">\n",
       "      <th></th>\n",
       "      <th>Date Of Stop</th>\n",
       "      <th>Time Of Stop</th>\n",
       "      <th>Agency</th>\n",
       "      <th>SubAgency</th>\n",
       "      <th>Description</th>\n",
       "      <th>Location</th>\n",
       "      <th>Latitude</th>\n",
       "      <th>Longitude</th>\n",
       "      <th>Accident</th>\n",
       "      <th>Belts</th>\n",
       "      <th>...</th>\n",
       "      <th>Charge</th>\n",
       "      <th>Article</th>\n",
       "      <th>Contributed To Accident</th>\n",
       "      <th>Race</th>\n",
       "      <th>Gender</th>\n",
       "      <th>Driver City</th>\n",
       "      <th>Driver State</th>\n",
       "      <th>DL State</th>\n",
       "      <th>Arrest Type</th>\n",
       "      <th>Geolocation</th>\n",
       "    </tr>\n",
       "  </thead>\n",
       "  <tbody>\n",
       "    <tr>\n",
       "      <th>0</th>\n",
       "      <td>09/24/2013</td>\n",
       "      <td>17:11:00</td>\n",
       "      <td>MCP</td>\n",
       "      <td>3rd district, Silver Spring</td>\n",
       "      <td>DRIVING VEHICLE ON HIGHWAY WITH SUSPENDED REGI...</td>\n",
       "      <td>8804 FLOWER AVE</td>\n",
       "      <td>NaN</td>\n",
       "      <td>NaN</td>\n",
       "      <td>No</td>\n",
       "      <td>No</td>\n",
       "      <td>...</td>\n",
       "      <td>13-401(h)</td>\n",
       "      <td>Transportation Article</td>\n",
       "      <td>No</td>\n",
       "      <td>BLACK</td>\n",
       "      <td>M</td>\n",
       "      <td>TAKOMA PARK</td>\n",
       "      <td>MD</td>\n",
       "      <td>MD</td>\n",
       "      <td>A - Marked Patrol</td>\n",
       "      <td>NaN</td>\n",
       "    </tr>\n",
       "    <tr>\n",
       "      <th>1</th>\n",
       "      <td>12/20/2012</td>\n",
       "      <td>00:41:00</td>\n",
       "      <td>MCP</td>\n",
       "      <td>2nd district, Bethesda</td>\n",
       "      <td>DRIVING WHILE IMPAIRED BY ALCOHOL</td>\n",
       "      <td>NORFOLK AVE /  ST ELMO AVE</td>\n",
       "      <td>38.983578</td>\n",
       "      <td>-77.093105</td>\n",
       "      <td>No</td>\n",
       "      <td>No</td>\n",
       "      <td>...</td>\n",
       "      <td>21-902(b1)</td>\n",
       "      <td>Transportation Article</td>\n",
       "      <td>No</td>\n",
       "      <td>WHITE</td>\n",
       "      <td>M</td>\n",
       "      <td>DERWOOD</td>\n",
       "      <td>MD</td>\n",
       "      <td>MD</td>\n",
       "      <td>A - Marked Patrol</td>\n",
       "      <td>(38.9835782, -77.09310515)</td>\n",
       "    </tr>\n",
       "    <tr>\n",
       "      <th>2</th>\n",
       "      <td>07/20/2012</td>\n",
       "      <td>23:12:00</td>\n",
       "      <td>MCP</td>\n",
       "      <td>5th district, Germantown</td>\n",
       "      <td>FAILURE TO STOP AT STOP SIGN</td>\n",
       "      <td>WISTERIA DR @ WARING STATION RD</td>\n",
       "      <td>39.161810</td>\n",
       "      <td>-77.253581</td>\n",
       "      <td>No</td>\n",
       "      <td>No</td>\n",
       "      <td>...</td>\n",
       "      <td>21-707(a)</td>\n",
       "      <td>Transportation Article</td>\n",
       "      <td>No</td>\n",
       "      <td>ASIAN</td>\n",
       "      <td>F</td>\n",
       "      <td>GERMANTOWN</td>\n",
       "      <td>MD</td>\n",
       "      <td>MD</td>\n",
       "      <td>A - Marked Patrol</td>\n",
       "      <td>(39.1618098166667, -77.25358095)</td>\n",
       "    </tr>\n",
       "    <tr>\n",
       "      <th>3</th>\n",
       "      <td>03/19/2012</td>\n",
       "      <td>16:10:00</td>\n",
       "      <td>MCP</td>\n",
       "      <td>2nd district, Bethesda</td>\n",
       "      <td>DRIVER USING HANDS TO USE HANDHELD TELEPHONE W...</td>\n",
       "      <td>CLARENDON RD @ ELM ST. N/</td>\n",
       "      <td>38.982731</td>\n",
       "      <td>-77.100755</td>\n",
       "      <td>No</td>\n",
       "      <td>No</td>\n",
       "      <td>...</td>\n",
       "      <td>21-1124.2(d2)</td>\n",
       "      <td>Transportation Article</td>\n",
       "      <td>No</td>\n",
       "      <td>HISPANIC</td>\n",
       "      <td>M</td>\n",
       "      <td>ARLINGTON</td>\n",
       "      <td>VA</td>\n",
       "      <td>VA</td>\n",
       "      <td>A - Marked Patrol</td>\n",
       "      <td>(38.9827307333333, -77.1007551666667)</td>\n",
       "    </tr>\n",
       "    <tr>\n",
       "      <th>4</th>\n",
       "      <td>12/01/2014</td>\n",
       "      <td>12:52:00</td>\n",
       "      <td>MCP</td>\n",
       "      <td>6th district, Gaithersburg / Montgomery Village</td>\n",
       "      <td>FAILURE STOP AND YIELD AT THRU HWY</td>\n",
       "      <td>CHRISTOPHER AVE/MONTGOMERY VILLAGE AVE</td>\n",
       "      <td>39.162888</td>\n",
       "      <td>-77.229088</td>\n",
       "      <td>No</td>\n",
       "      <td>No</td>\n",
       "      <td>...</td>\n",
       "      <td>21-403(b)</td>\n",
       "      <td>Transportation Article</td>\n",
       "      <td>No</td>\n",
       "      <td>BLACK</td>\n",
       "      <td>F</td>\n",
       "      <td>UPPER MARLBORO</td>\n",
       "      <td>MD</td>\n",
       "      <td>MD</td>\n",
       "      <td>A - Marked Patrol</td>\n",
       "      <td>(39.1628883333333, -77.2290883333333)</td>\n",
       "    </tr>\n",
       "  </tbody>\n",
       "</table>\n",
       "<p>5 rows × 35 columns</p>\n",
       "</div>"
      ],
      "text/plain": [
       "  Date Of Stop Time Of Stop Agency  \\\n",
       "0   09/24/2013     17:11:00    MCP   \n",
       "1   12/20/2012     00:41:00    MCP   \n",
       "2   07/20/2012     23:12:00    MCP   \n",
       "3   03/19/2012     16:10:00    MCP   \n",
       "4   12/01/2014     12:52:00    MCP   \n",
       "\n",
       "                                         SubAgency  \\\n",
       "0                      3rd district, Silver Spring   \n",
       "1                           2nd district, Bethesda   \n",
       "2                         5th district, Germantown   \n",
       "3                           2nd district, Bethesda   \n",
       "4  6th district, Gaithersburg / Montgomery Village   \n",
       "\n",
       "                                         Description  \\\n",
       "0  DRIVING VEHICLE ON HIGHWAY WITH SUSPENDED REGI...   \n",
       "1                  DRIVING WHILE IMPAIRED BY ALCOHOL   \n",
       "2                       FAILURE TO STOP AT STOP SIGN   \n",
       "3  DRIVER USING HANDS TO USE HANDHELD TELEPHONE W...   \n",
       "4                 FAILURE STOP AND YIELD AT THRU HWY   \n",
       "\n",
       "                                 Location   Latitude  Longitude Accident  \\\n",
       "0                         8804 FLOWER AVE        NaN        NaN       No   \n",
       "1              NORFOLK AVE /  ST ELMO AVE  38.983578 -77.093105       No   \n",
       "2         WISTERIA DR @ WARING STATION RD  39.161810 -77.253581       No   \n",
       "3               CLARENDON RD @ ELM ST. N/  38.982731 -77.100755       No   \n",
       "4  CHRISTOPHER AVE/MONTGOMERY VILLAGE AVE  39.162888 -77.229088       No   \n",
       "\n",
       "  Belts  ...         Charge                 Article Contributed To Accident  \\\n",
       "0    No  ...      13-401(h)  Transportation Article                      No   \n",
       "1    No  ...     21-902(b1)  Transportation Article                      No   \n",
       "2    No  ...      21-707(a)  Transportation Article                      No   \n",
       "3    No  ...  21-1124.2(d2)  Transportation Article                      No   \n",
       "4    No  ...      21-403(b)  Transportation Article                      No   \n",
       "\n",
       "       Race Gender     Driver City Driver State DL State        Arrest Type  \\\n",
       "0     BLACK      M     TAKOMA PARK           MD       MD  A - Marked Patrol   \n",
       "1     WHITE      M         DERWOOD           MD       MD  A - Marked Patrol   \n",
       "2     ASIAN      F      GERMANTOWN           MD       MD  A - Marked Patrol   \n",
       "3  HISPANIC      M       ARLINGTON           VA       VA  A - Marked Patrol   \n",
       "4     BLACK      F  UPPER MARLBORO           MD       MD  A - Marked Patrol   \n",
       "\n",
       "                             Geolocation  \n",
       "0                                    NaN  \n",
       "1             (38.9835782, -77.09310515)  \n",
       "2       (39.1618098166667, -77.25358095)  \n",
       "3  (38.9827307333333, -77.1007551666667)  \n",
       "4  (39.1628883333333, -77.2290883333333)  \n",
       "\n",
       "[5 rows x 35 columns]"
      ]
     },
     "execution_count": 1,
     "metadata": {},
     "output_type": "execute_result"
    }
   ],
   "source": [
    "import pandas as pd\n",
    "\n",
    "# Load the dataset into a pandas DataFrame\n",
    "file_path = 'Traffic_Violations_USA.csv'\n",
    "traffic_violations_df = pd.read_csv(file_path)\n",
    "\n",
    "# Display the first few rows of the dataframe\n",
    "traffic_violations_df.head()"
   ]
  },
  {
   "cell_type": "markdown",
   "id": "7f91fe77",
   "metadata": {},
   "source": [
    "**The above code cell imports the dataset \"Traffic_Violations_USA.csv\" into a pandas DataFrame for further analysis.**"
   ]
  },
  {
   "cell_type": "markdown",
   "id": "c13b96ec",
   "metadata": {},
   "source": [
    "**1.2 Initial Exploration:**"
   ]
  },
  {
   "cell_type": "markdown",
   "id": "eb68086b",
   "metadata": {},
   "source": [
    "**The below code cells provides an initial overview of the dataset using functions like df.info(), and df.describe() to understand its structure, types, and basic statistics.**"
   ]
  },
  {
   "cell_type": "code",
   "execution_count": 2,
   "id": "709e8450",
   "metadata": {},
   "outputs": [
    {
     "name": "stdout",
     "output_type": "stream",
     "text": [
      "\n",
      "Dataframe info:\n",
      "<class 'pandas.core.frame.DataFrame'>\n",
      "RangeIndex: 1018634 entries, 0 to 1018633\n",
      "Data columns (total 35 columns):\n",
      " #   Column                   Non-Null Count    Dtype  \n",
      "---  ------                   --------------    -----  \n",
      " 0   Date Of Stop             1018634 non-null  object \n",
      " 1   Time Of Stop             1018634 non-null  object \n",
      " 2   Agency                   1018634 non-null  object \n",
      " 3   SubAgency                1018634 non-null  object \n",
      " 4   Description              1018625 non-null  object \n",
      " 5   Location                 1018632 non-null  object \n",
      " 6   Latitude                 933599 non-null   float64\n",
      " 7   Longitude                933599 non-null   float64\n",
      " 8   Accident                 1018634 non-null  object \n",
      " 9   Belts                    1018634 non-null  object \n",
      " 10  Personal Injury          1018634 non-null  object \n",
      " 11  Property Damage          1018634 non-null  object \n",
      " 12  Fatal                    1018634 non-null  object \n",
      " 13  Commercial License       1018634 non-null  object \n",
      " 14  HAZMAT                   1018634 non-null  object \n",
      " 15  Commercial Vehicle       1018634 non-null  object \n",
      " 16  Alcohol                  1018634 non-null  object \n",
      " 17  Work Zone                1018634 non-null  object \n",
      " 18  State                    1018575 non-null  object \n",
      " 19  VehicleType              1018634 non-null  object \n",
      " 20  Year                     1012208 non-null  float64\n",
      " 21  Make                     1018586 non-null  object \n",
      " 22  Model                    1018465 non-null  object \n",
      " 23  Color                    1005043 non-null  object \n",
      " 24  Violation Type           1018634 non-null  object \n",
      " 25  Charge                   1018634 non-null  object \n",
      " 26  Article                  966569 non-null   object \n",
      " 27  Contributed To Accident  1018634 non-null  object \n",
      " 28  Race                     1018634 non-null  object \n",
      " 29  Gender                   1018634 non-null  object \n",
      " 30  Driver City              1018493 non-null  object \n",
      " 31  Driver State             1018623 non-null  object \n",
      " 32  DL State                 1017705 non-null  object \n",
      " 33  Arrest Type              1018634 non-null  object \n",
      " 34  Geolocation              933599 non-null   object \n",
      "dtypes: float64(3), object(32)\n",
      "memory usage: 272.0+ MB\n",
      "None\n",
      "\n",
      "Basic statistical insights:\n"
     ]
    },
    {
     "data": {
      "text/html": [
       "<div>\n",
       "<style scoped>\n",
       "    .dataframe tbody tr th:only-of-type {\n",
       "        vertical-align: middle;\n",
       "    }\n",
       "\n",
       "    .dataframe tbody tr th {\n",
       "        vertical-align: top;\n",
       "    }\n",
       "\n",
       "    .dataframe thead th {\n",
       "        text-align: right;\n",
       "    }\n",
       "</style>\n",
       "<table border=\"1\" class=\"dataframe\">\n",
       "  <thead>\n",
       "    <tr style=\"text-align: right;\">\n",
       "      <th></th>\n",
       "      <th>Latitude</th>\n",
       "      <th>Longitude</th>\n",
       "      <th>Year</th>\n",
       "    </tr>\n",
       "  </thead>\n",
       "  <tbody>\n",
       "    <tr>\n",
       "      <th>count</th>\n",
       "      <td>933599.000000</td>\n",
       "      <td>933599.000000</td>\n",
       "      <td>1.012208e+06</td>\n",
       "    </tr>\n",
       "    <tr>\n",
       "      <th>mean</th>\n",
       "      <td>39.070965</td>\n",
       "      <td>-77.099552</td>\n",
       "      <td>2.004325e+03</td>\n",
       "    </tr>\n",
       "    <tr>\n",
       "      <th>std</th>\n",
       "      <td>1.273985</td>\n",
       "      <td>1.139822</td>\n",
       "      <td>8.457610e+01</td>\n",
       "    </tr>\n",
       "    <tr>\n",
       "      <th>min</th>\n",
       "      <td>-94.610988</td>\n",
       "      <td>-77.820825</td>\n",
       "      <td>0.000000e+00</td>\n",
       "    </tr>\n",
       "    <tr>\n",
       "      <th>25%</th>\n",
       "      <td>39.031208</td>\n",
       "      <td>-77.195098</td>\n",
       "      <td>2.001000e+03</td>\n",
       "    </tr>\n",
       "    <tr>\n",
       "      <th>50%</th>\n",
       "      <td>39.074158</td>\n",
       "      <td>-77.093166</td>\n",
       "      <td>2.005000e+03</td>\n",
       "    </tr>\n",
       "    <tr>\n",
       "      <th>75%</th>\n",
       "      <td>39.138796</td>\n",
       "      <td>-77.042386</td>\n",
       "      <td>2.010000e+03</td>\n",
       "    </tr>\n",
       "    <tr>\n",
       "      <th>max</th>\n",
       "      <td>40.111822</td>\n",
       "      <td>41.543160</td>\n",
       "      <td>9.999000e+03</td>\n",
       "    </tr>\n",
       "  </tbody>\n",
       "</table>\n",
       "</div>"
      ],
      "text/plain": [
       "            Latitude      Longitude          Year\n",
       "count  933599.000000  933599.000000  1.012208e+06\n",
       "mean       39.070965     -77.099552  2.004325e+03\n",
       "std         1.273985       1.139822  8.457610e+01\n",
       "min       -94.610988     -77.820825  0.000000e+00\n",
       "25%        39.031208     -77.195098  2.001000e+03\n",
       "50%        39.074158     -77.093166  2.005000e+03\n",
       "75%        39.138796     -77.042386  2.010000e+03\n",
       "max        40.111822      41.543160  9.999000e+03"
      ]
     },
     "execution_count": 2,
     "metadata": {},
     "output_type": "execute_result"
    }
   ],
   "source": [
    "# Display the info of the dataframe\n",
    "print(\"\\nDataframe info:\")\n",
    "print(traffic_violations_df.info())\n",
    "\n",
    "# Display basic statistical insights of the dataframe\n",
    "print(\"\\nBasic statistical insights:\")\n",
    "traffic_violations_df.describe()"
   ]
  },
  {
   "cell_type": "code",
   "execution_count": 3,
   "id": "958f6227",
   "metadata": {},
   "outputs": [
    {
     "data": {
      "text/plain": [
       "Date Of Stop                   0\n",
       "Time Of Stop                   0\n",
       "Agency                         0\n",
       "SubAgency                      0\n",
       "Description                    9\n",
       "Location                       2\n",
       "Latitude                   85035\n",
       "Longitude                  85035\n",
       "Accident                       0\n",
       "Belts                          0\n",
       "Personal Injury                0\n",
       "Property Damage                0\n",
       "Fatal                          0\n",
       "Commercial License             0\n",
       "HAZMAT                         0\n",
       "Commercial Vehicle             0\n",
       "Alcohol                        0\n",
       "Work Zone                      0\n",
       "State                         59\n",
       "VehicleType                    0\n",
       "Year                        6426\n",
       "Make                          48\n",
       "Model                        169\n",
       "Color                      13591\n",
       "Violation Type                 0\n",
       "Charge                         0\n",
       "Article                    52065\n",
       "Contributed To Accident        0\n",
       "Race                           0\n",
       "Gender                         0\n",
       "Driver City                  141\n",
       "Driver State                  11\n",
       "DL State                     929\n",
       "Arrest Type                    0\n",
       "Geolocation                85035\n",
       "dtype: int64"
      ]
     },
     "execution_count": 3,
     "metadata": {},
     "output_type": "execute_result"
    }
   ],
   "source": [
    "# Identify missing values in the dataset\n",
    "missing_values = traffic_violations_df.isnull().sum()\n",
    "missing_values\n"
   ]
  },
  {
   "cell_type": "markdown",
   "id": "76b91d03",
   "metadata": {},
   "source": [
    "**1.3 Handle Missing Values:**"
   ]
  },
  {
   "cell_type": "code",
   "execution_count": 4,
   "id": "bc3a6af9",
   "metadata": {},
   "outputs": [
    {
     "data": {
      "text/plain": [
       "Date Of Stop               0\n",
       "Time Of Stop               0\n",
       "Agency                     0\n",
       "SubAgency                  0\n",
       "Description                0\n",
       "Location                   0\n",
       "Latitude                   0\n",
       "Longitude                  0\n",
       "Accident                   0\n",
       "Belts                      0\n",
       "Personal Injury            0\n",
       "Property Damage            0\n",
       "Fatal                      0\n",
       "Commercial License         0\n",
       "HAZMAT                     0\n",
       "Commercial Vehicle         0\n",
       "Alcohol                    0\n",
       "Work Zone                  0\n",
       "State                      0\n",
       "VehicleType                0\n",
       "Year                       0\n",
       "Make                       0\n",
       "Model                      0\n",
       "Color                      0\n",
       "Violation Type             0\n",
       "Charge                     0\n",
       "Article                    0\n",
       "Contributed To Accident    0\n",
       "Race                       0\n",
       "Gender                     0\n",
       "Driver City                0\n",
       "Driver State               0\n",
       "DL State                   0\n",
       "Arrest Type                0\n",
       "Geolocation                0\n",
       "dtype: int64"
      ]
     },
     "execution_count": 4,
     "metadata": {},
     "output_type": "execute_result"
    }
   ],
   "source": [
    "from sklearn.impute import SimpleImputer\n",
    "\n",
    "# Impute numerical columns with the median and categorical columns with the mode\n",
    "numerical_imputer = SimpleImputer(strategy='median')\n",
    "traffic_violations_df[['Latitude', 'Longitude', 'Year']] = numerical_imputer.fit_transform(traffic_violations_df[['Latitude', 'Longitude', 'Year']])\n",
    "\n",
    "mode_imputer = SimpleImputer(strategy='most_frequent')\n",
    "categorical_columns = ['Description', 'Location', 'State', 'Make', 'Model', 'Color', 'Driver City', 'Driver State', 'DL State', 'Article']\n",
    "traffic_violations_df[categorical_columns] = mode_imputer.fit_transform(traffic_violations_df[categorical_columns])\n",
    "\n",
    "# Mark missing 'Geolocation' as 'Unknown'\n",
    "traffic_violations_df['Geolocation'].fillna('Unknown', inplace=True)\n",
    "\n",
    "# Verify the imputation results\n",
    "traffic_violations_df.isnull().sum()\n"
   ]
  },
  {
   "cell_type": "markdown",
   "id": "8d099740",
   "metadata": {},
   "source": [
    "**The above code cell identifies missing values in the dataset using df.isnull().sum() and then handles them through imputation strategies such as mean or median for numerical columns and mode for categorical columns.**"
   ]
  },
  {
   "cell_type": "markdown",
   "id": "04282062",
   "metadata": {},
   "source": [
    "**1.4 Remove Duplicate Rows:**"
   ]
  },
  {
   "cell_type": "code",
   "execution_count": 5,
   "id": "c3a71996",
   "metadata": {},
   "outputs": [
    {
     "data": {
      "text/plain": [
       "(1017322, 35)"
      ]
     },
     "execution_count": 5,
     "metadata": {},
     "output_type": "execute_result"
    }
   ],
   "source": [
    "# Check for duplicate rows and remove them\n",
    "traffic_violations_df.drop_duplicates(inplace=True)\n",
    "\n",
    "# Verify the removal by checking the shape of the DataFrame\n",
    "traffic_violations_df.shape"
   ]
  },
  {
   "cell_type": "markdown",
   "id": "c521b5b9",
   "metadata": {},
   "source": [
    "**This code checks for and removes duplicate entries in the dataset to maintain data integrity using the drop_duplicates() function.**"
   ]
  },
  {
   "cell_type": "markdown",
   "id": "7299f3ff",
   "metadata": {},
   "source": [
    "**1.5 Data Type Correction:**"
   ]
  },
  {
   "cell_type": "code",
   "execution_count": 6,
   "id": "4a73d014",
   "metadata": {
    "scrolled": true
   },
   "outputs": [
    {
     "data": {
      "text/plain": [
       "Date Of Stop               datetime64[ns]\n",
       "Time Of Stop                       object\n",
       "Agency                           category\n",
       "SubAgency                        category\n",
       "Description                      category\n",
       "Location                         category\n",
       "Latitude                          float64\n",
       "Longitude                         float64\n",
       "Accident                         category\n",
       "Belts                            category\n",
       "Personal Injury                  category\n",
       "Property Damage                  category\n",
       "Fatal                            category\n",
       "Commercial License               category\n",
       "HAZMAT                           category\n",
       "Commercial Vehicle               category\n",
       "Alcohol                          category\n",
       "Work Zone                        category\n",
       "State                            category\n",
       "VehicleType                      category\n",
       "Year                              float64\n",
       "Make                             category\n",
       "Model                            category\n",
       "Color                            category\n",
       "Violation Type                   category\n",
       "Charge                           category\n",
       "Article                          category\n",
       "Contributed To Accident          category\n",
       "Race                             category\n",
       "Gender                           category\n",
       "Driver City                      category\n",
       "Driver State                     category\n",
       "DL State                         category\n",
       "Arrest Type                      category\n",
       "Geolocation                      category\n",
       "dtype: object"
      ]
     },
     "execution_count": 6,
     "metadata": {},
     "output_type": "execute_result"
    }
   ],
   "source": [
    "# Convert date/time columns to datetime format\n",
    "traffic_violations_df['Date Of Stop'] = pd.to_datetime(traffic_violations_df['Date Of Stop'])\n",
    "traffic_violations_df['Time Of Stop'] = pd.to_datetime(traffic_violations_df['Time Of Stop'], format='%H:%M:%S').dt.time\n",
    "\n",
    "# Convert categorical columns to category type\n",
    "categorical_columns = ['Agency', 'SubAgency', 'Description', 'Location', 'Accident', 'Belts', 'Personal Injury', \n",
    "                       'Property Damage', 'Fatal', 'Commercial License', 'HAZMAT', 'Commercial Vehicle', 'Alcohol', \n",
    "                       'Work Zone', 'State', 'VehicleType', 'Make', 'Model', 'Color', 'Violation Type', 'Charge', \n",
    "                       'Article', 'Contributed To Accident', 'Race', 'Gender', 'Driver City', 'Driver State', \n",
    "                       'DL State', 'Arrest Type', 'Geolocation']\n",
    "\n",
    "for col in categorical_columns:\n",
    "    traffic_violations_df[col] = traffic_violations_df[col].astype('category')\n",
    "\n",
    "# Verify the data type changes\n",
    "traffic_violations_df.dtypes"
   ]
  },
  {
   "cell_type": "markdown",
   "id": "80d3df26",
   "metadata": {},
   "source": [
    "**The above code cell corrects the data types of columns, specifically converting date/time columns to datetime format and categorical columns to category type, ensuring consistency and compatibility for analysis.**"
   ]
  },
  {
   "cell_type": "markdown",
   "id": "57a88869",
   "metadata": {},
   "source": [
    "## 2. Data Transformation and Feature Engineering:\n",
    "**2.1 Encode Categorical Variables:**"
   ]
  },
  {
   "cell_type": "code",
   "execution_count": 7,
   "id": "8f14b4ae",
   "metadata": {},
   "outputs": [
    {
     "name": "stdout",
     "output_type": "stream",
     "text": [
      "(1017322, 303)\n"
     ]
    }
   ],
   "source": [
    "from sklearn.preprocessing import OneHotEncoder, LabelEncoder\n",
    "import numpy as np\n",
    "\n",
    "# Initialize LabelEncoder\n",
    "label_encoder = LabelEncoder()\n",
    "\n",
    "# Apply Label Encoding for high-cardinality columns\n",
    "high_cardinality_columns = ['Description', 'Location', 'Make', 'Model', 'Charge', 'Article', 'Driver City']\n",
    "for col in high_cardinality_columns:\n",
    "    traffic_violations_df[col] = label_encoder.fit_transform(traffic_violations_df[col])\n",
    "\n",
    "# Select columns for OneHotEncoding (low cardinality)\n",
    "low_cardinality_columns = ['Agency', 'SubAgency', 'Accident', 'Belts', 'Personal Injury', \n",
    "                           'Property Damage', 'Fatal', 'Commercial License', 'HAZMAT', 'Commercial Vehicle', \n",
    "                           'Alcohol', 'Work Zone', 'State', 'VehicleType', 'Color', \n",
    "                           'Violation Type', 'Contributed To Accident', 'Race', 'Gender', \n",
    "                           'Driver State', 'DL State', 'Arrest Type']\n",
    "\n",
    "# Initialize OneHotEncoder with sparse output\n",
    "one_hot_encoder = OneHotEncoder(sparse=True, drop='first')\n",
    "\n",
    "# Apply OneHotEncoding to low-cardinality columns and keep the output as a sparse matrix\n",
    "encoded_columns = one_hot_encoder.fit_transform(traffic_violations_df[low_cardinality_columns])\n",
    "\n",
    "# The shape of the encoded columns can be inspected to verify the transformation\n",
    "print(encoded_columns.shape)\n"
   ]
  },
  {
   "cell_type": "markdown",
   "id": "a09dd5c9",
   "metadata": {},
   "source": [
    "**Here, categorical variables are encoded using LabelEncoder for high-cardinality columns and OneHotEncoder for low-cardinality columns to prepare them for machine learning models.**"
   ]
  },
  {
   "cell_type": "code",
   "execution_count": 8,
   "id": "4e6c2ba3",
   "metadata": {},
   "outputs": [
    {
     "data": {
      "text/plain": [
       "Index(['Date Of Stop', 'Time Of Stop', 'Agency', 'SubAgency', 'Description',\n",
       "       'Location', 'Latitude', 'Longitude', 'Accident', 'Belts',\n",
       "       'Personal Injury', 'Property Damage', 'Fatal', 'Commercial License',\n",
       "       'HAZMAT', 'Commercial Vehicle', 'Alcohol', 'Work Zone', 'State',\n",
       "       'VehicleType', 'Year', 'Make', 'Model', 'Color', 'Violation Type',\n",
       "       'Charge', 'Article', 'Contributed To Accident', 'Race', 'Gender',\n",
       "       'Driver City', 'Driver State', 'DL State', 'Arrest Type',\n",
       "       'Geolocation'],\n",
       "      dtype='object')"
      ]
     },
     "execution_count": 8,
     "metadata": {},
     "output_type": "execute_result"
    }
   ],
   "source": [
    "traffic_violations_df.columns"
   ]
  },
  {
   "cell_type": "markdown",
   "id": "0766aa30",
   "metadata": {},
   "source": [
    "**2.2 Normalize/Standardize Numerical Variables**\n",
    "\n"
   ]
  },
  {
   "cell_type": "code",
   "execution_count": null,
   "id": "b07880b0",
   "metadata": {},
   "outputs": [],
   "source": []
  }
 ],
 "metadata": {
  "kernelspec": {
   "display_name": "Python 3 (ipykernel)",
   "language": "python",
   "name": "python3"
  },
  "language_info": {
   "codemirror_mode": {
    "name": "ipython",
    "version": 3
   },
   "file_extension": ".py",
   "mimetype": "text/x-python",
   "name": "python",
   "nbconvert_exporter": "python",
   "pygments_lexer": "ipython3",
   "version": "3.9.13"
  }
 },
 "nbformat": 4,
 "nbformat_minor": 5
}
